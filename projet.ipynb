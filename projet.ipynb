{
 "cells": [
  {
   "cell_type": "code",
   "execution_count": 1,
   "metadata": {},
   "outputs": [],
   "source": [
    "import numpy as np\n",
    "from numpy import *\n",
    "import matplotlib.pyplot as plt\n",
    "import ipywidgets as widgets"
   ]
  },
  {
   "cell_type": "code",
   "execution_count": 2,
   "metadata": {},
   "outputs": [],
   "source": [
    "class RectangleG ( object ) :\n",
    "    def __init__ (self , a , b , n , f ) :\n",
    "        self.a = a\n",
    "        self.b = b\n",
    "        self.x = np.linspace( a , b , n+1 )\n",
    "        self.f = f\n",
    "        self.n = n\n",
    "    def integrate ( self , f ) :\n",
    "        x= self.x\n",
    "        y= f( x )\n",
    "        h = float( x[1] - x[0] )\n",
    "        s = sum( y[ 0 : -1 ] )\n",
    "        return h * s\n",
    "    def Graph ( self , f , resolution =1001 ) :\n",
    "        xl = self.x\n",
    "        yl = f(xl)\n",
    "        xlist_fine =np.linspace( self.a , self.b , resolution )\n",
    "        for i in range ( self.n ) :\n",
    "            x_rect = [xl[ i ] , xl[ i ] , xl[ i + 1 ] , xl[i+1] , xl[ i ] ] # abscisses des sommets\n",
    "            y_rect = [0 , yl[ i ] , yl[ i ] , 0 , 0 ] # ordonnees des sommets\n",
    "            plt.plot ( x_rect , y_rect , 'r' )\n",
    "        yflist_fine = f ( xlist_fine )\n",
    "        plt.plot ( xlist_fine , yflist_fine )\n",
    "        plt.plot(xl, yl,\"bo\")\n",
    "        plt.xlabel ( 'x' )\n",
    "        plt.ylabel ( ' f ( x ) ' )\n",
    "        plt.title ( ' Methode des rectangles gauches, N={}'.format(self.n) )\n",
    "        plt.text( 0.5*( self.a+ self.b ) , f(self.b ) , 'I_{} ={:0.8f}'.format(self.n,self.integrate( f ) ) , fontsize =15 )"
   ]
  },
  {
   "cell_type": "code",
   "execution_count": null,
   "metadata": {},
   "outputs": [],
   "source": [
    "\n",
    "from projet import Ui_MainWindow\n",
    "from PyQt5      import QtCore, QtGui, QtWidgets, uic\n",
    "from PyQt5.QtWidgets import QApplication\n",
    "from PyQt5.QtWidgets import QWidget\n",
    "from PyQt5.QtWidgets import QInputDialog, QLineEdit, QDialog\n",
    "class Camera(QtWidgets.QMainWindow, Ui_MainWindow):\n",
    "    def __init__(self, *args, **kwargs):\n",
    "        QtWidgets.QMainWindow.__init__(self, *args, **kwargs)\n",
    "        self.setupUi(self)\n",
    "        self.pushButton_3.clicked.connect(self.close)\n",
    "        self.pushButton_5.clicked.connect(self.clear)\n",
    "        self.pushButton_2.clicked.connect(self.on_button_clicked)\n",
    "    def clear(self):\n",
    "        self.lineEdit.clear()\n",
    "        self.lineEdit_2.clear()\n",
    "        self.lineEdit_3.clear()\n",
    "\n",
    "    def simule(n,f,a,b):\n",
    "    \n",
    "        R=RectangleG(a,b,n,f)\n",
    "        T=Trapezoidal(a,b,n,f)\n",
    "        plt.subplot(221)\n",
    "        R.Graph(f)  \n",
    "        plt.show()\n",
    "\n",
    "    output = widgets.Output()\n",
    "    with output:\n",
    "        fig= plt.figure(figsize=(10,7))\n",
    "    fig.canvas.toolbar_position = 'bottom'\n",
    "    def on_button_clicked(b):\n",
    "        \n",
    "            fig.clear()\n",
    "            F=self.lineEdit.text()\n",
    "            A=self.lineEdit.text()\n",
    "            B=self.lineEdit.text()\n",
    "            N=self.lineEdit.text()\n",
    "            simule(N,F,A,B)\n",
    "if __name__ == \"__main__\":\n",
    "    import sys\n",
    "    app = QtWidgets.QApplication(sys.argv)\n",
    "    \n",
    "    w = Camera()\n",
    "    w.show()\n",
    "    sys.exit(app.exec_())"
   ]
  },
  {
   "cell_type": "code",
   "execution_count": null,
   "metadata": {},
   "outputs": [],
   "source": []
  }
 ],
 "metadata": {
  "kernelspec": {
   "display_name": "Python 3",
   "language": "python",
   "name": "python3"
  },
  "language_info": {
   "codemirror_mode": {
    "name": "ipython",
    "version": 3
   },
   "file_extension": ".py",
   "mimetype": "text/x-python",
   "name": "python",
   "nbconvert_exporter": "python",
   "pygments_lexer": "ipython3",
   "version": "3.8.5"
  }
 },
 "nbformat": 4,
 "nbformat_minor": 4
}
